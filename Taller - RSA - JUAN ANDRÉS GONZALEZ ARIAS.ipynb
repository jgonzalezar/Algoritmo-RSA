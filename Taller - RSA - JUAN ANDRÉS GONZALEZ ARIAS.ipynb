{
 "cells": [
  {
   "cell_type": "markdown",
   "metadata": {},
   "source": [
    "# El algoritmo RSA"
   ]
  },
  {
   "cell_type": "markdown",
   "metadata": {},
   "source": [
    "## Presentado por: Juan Andrés Gonzalez Arias\n",
    "\n"
   ]
  },
  {
   "cell_type": "markdown",
   "metadata": {},
   "source": [
    "### Sobre el algoritmo...\n",
    "Desarrollado en 1979 por Ron Rivest, Adi Shamir y Leonard Adleman, del Instituto Tecnológico de Massachusetts (MIT), el algoritmo RSA (nombrado así por las iniciales de los apellidos de sus creadores) es un sistema criptográfico de clave publica en el que cada usuario posee dos claves de cifrado: una pública y otra privada. Al usuario que envía el mensaje lo llamarémos emisor, y a quien lo recibe lo llamaremos receptor. \n",
    "Cuando se quiere enviar un mensaje, el emisor lo cifra con la llave pública del receptor y cuando el mensaje llega, el receptor usa su clave privada para descifrarlo.\n",
    "\n",
    "En teoría de números, la factorización en primos consiste en la descomposición de un numero compuesto (es decir que no es primo) en divisores no triviales, que cuando se multiplican dan el número original.\n",
    "Cuando el número es suficientemente grande (+200 dígitos) la factorización en primos del número excede la capacidad de la computación clasica, es decir que efectuarla se hace prácticamente imposible computacionalmente hablando. A lo anterior se le conoce como el problema de la factorización. \n",
    "\n",
    "La seguridad del algoritmo RSA radica en el problema de la factorización y en la dificultad computacional que este supone."
   ]
  },
  {
   "cell_type": "markdown",
   "metadata": {},
   "source": [
    "### ¿En qué consiste?\n",
    "\n",
    "Los mensajes enviados se representan mediante números y el funcionamiento se basa en el producto de dos números primos grandes elegidos al azar (actualmente se usan primos del orden de $10^{300}$). Estos números deben permanecer en secreto ya que de conocerse publicamente su valor, el algoritmo no tendría sentido.\n",
    "\n",
    "Inicialmente, se desea enviar un mensaje <i><b>M</b></i> en forma de un numero <i><b>m</b></i>, mediante un protocolo reversible conocido como <i><b>padding scheme</b></i>. A continuación genera el mensaje cifrado <i><b>c</b></i> mediante la siguiente operación: \n",
    "\n",
    "$$\n",
    "    c = m^e (mod \\ n)\n",
    "$$\n",
    "<br>\n",
    "Donde <i><b>e</b></i> es el exponente de la llave pública del receptor.\n",
    "\n",
    "Al recibir el mensaje <i><b>c</b></i>, el receptor lo descifra mediante la operación:\n",
    "\n",
    "$$\n",
    "    m = c^d (mod \\ n)\n",
    "$$\n",
    "<br>\n",
    "Donde <i><b>d</b></i> es el exponente de la clave privada del receptor.\n",
    "### ¿Cómo se generan las claves?\n",
    "\n",
    "<ol>\n",
    "<li>Se eligen aleatoriamente dos números primos <i><b>p</b></i> y <i><b>q</b></i>. Estos numeors deben tener una longitud en bits parecida.</li>\n",
    "<li>Se calcula $n = pq$. Este será el módulo para ambas claves.</li>\n",
    "<li>Se define la función $\\phi$ de Euler como $\\phi(n) = (p-1)(q-1).$</li>\n",
    "<li>Se escoge un entero positivo $e$ coprimo con $\\phi(n)$ tal que $e<\\phi(n)$. Este número será el exponente de la llave pública.</li>\n",
    "<li>Usando aritmética modular, se determina $d$ como el inverso multiplicativo tal que $e \\cdot d \\equiv 1 \\ (mod \\ \\phi(n))$. Este número será el exponente de la llave privada</li>\n",
    "</ol>\n",
    "Finalmente, se determinan las claves como la dupla $(n, \\ exp)$. Donde $exp$ representa el exponente para cada una de las claves. Luego, la clave pública será $(n,e)$ y la clave privada será $(n,d)$.\n",
    "\n",
    "### ¿Matemáticamente cómo funciona el algoritmo?\n",
    "\n",
    "Como se expuso anteriormente, se envia un mensaje <i><b>M</b></i> en forma de un numero $m$ tal que $m<n$, mediante un protocolo reversible conocido como <i>padding scheme</i>, previamente acordado. Es necesario que $m$ y $n$ sean coprimos para que se pueda aplicar el <b>Teorema de Euler</b>.\n",
    "\n",
    "<b>El teorema de Euler encuncia lo siguiente:</b>    \n",
    "Si $a$ y $n$ son enteros primos relativos, entonces $a^{\\phi(n)} \\equiv 1 \\ (mod\\  n)$.\n",
    "Donde $\\phi(n)$ es la función $\\phi$ de Euler.\n",
    "    \n",
    "<b>La Función $\\phi$ de Euler:</b>\n",
    "Es una función importante en teoría de números. Si $n$ es un número entero positivo, entonces $\\phi(n)$ se define como el número de enteros positivos menores o iguales a $n$ y coprimos con $n$. Formalmente, se define como:\n",
    "\n",
    "$$\n",
    "    \\phi(n) = |\\{m \\in \\mathbb N| m \\leq n \\ \\wedge mcd(m,n) = 1\\}|\n",
    "$$\n",
    "\n",
    "Cuado ya temenos el mensaje $m$ como un número, obtenemos el mensaje cifrado $c$ mediante la operación:\n",
    "\n",
    "$$\n",
    "    c\\equiv m^e\\ (mod\\ n)\n",
    "$$\n",
    "\n",
    "Se envía $c$ al receptor, quien a partir de este puede recuperar $m$ usando el exponente $d$ de su clave privada mediante la operación:\n",
    "\n",
    "$$\n",
    "    m\\equiv c^d\\ (mod\\ n)\n",
    "$$\n",
    "\n",
    "Este procedimiento funciona debido a que\n",
    "\n",
    "$$\n",
    "    c^d = (m^e)^d\\equiv m^{ed}\\ (mod\\ n)\n",
    "$$\n",
    "\n",
    "Esto es así porque como hemos elegido $d$ y $e$ de tal forma que $ed=1\\ +\\ k\\phi(n)$ ($d$,$e$ son divisibles por $\\phi (n)$), luego, se cumple que\n",
    "\n",
    "$$\n",
    "    m^{ed} = m^{1+k\\phi(n)}\\equiv m(m^{\\phi(n)})^k\\ \\equiv m \\ (mod\\ n)\n",
    "$$\n",
    "\n",
    "Usando congruencias y el teorema del resto chino se puede demostrar que la ecuaciones se cumplen para todo $m$, de tal manera que se muestra que obtenemos el mensaje original:\n",
    "\n",
    "$$\n",
    "    m = c^d \\ (mod\\ n)\n",
    "$$"
   ]
  },
  {
   "cell_type": "markdown",
   "metadata": {},
   "source": [
    "### Veamos un ejemplo.\n",
    "\n",
    "Primero generamos las claves, para esto escogemos dos números primos $p$ y $q$. En la aplicación real del algoritmo, se usan números muy grandes, pero para este ejemplo tomaremos $p = 11$ y $q = 23$.\n",
    "\n",
    "Ahora obtenemos $n = p\\cdot q = 11\\cdot 23 = 253$.\n",
    "\n",
    "Y $\\phi(n) = (p-1)(q-1) = (11 - 1)\\cdot(23 - 1) = 10 \\cdot 22 =220$.\n",
    "\n",
    "Para encontrar el exponente público, buscamos un numero $e$ tal que $1<e<\\phi(n)$ y $MCD(\\phi(n),e)=1$.\n",
    "Si escogieramos aleatoriamente a e, podriamos tomar por ejemplo $e = 3$. Es trivial ver que $e$ y $\\phi(n)$ son coprimos pero en la realidad, el algoritmo escoge números más grandes, por lo que para verificar que son coprimos se aplica el algoritmo de euclides. \n",
    "\n",
    "<ul>\n",
    "<li><b>Algoritmo de euclides:</b>\n",
    "    Dados  dos número enteros positivos $a$ y $b$, tales que $ a > b\\geq 0$, tenemos que\n",
    "   $$\n",
    "    a=b\\cdot q +r\n",
    "    $$ Entonces   \n",
    "    $$\n",
    "    MCD \\ (a,b)=MCD\\ (b,r)\n",
    "    $$\n",
    "    </li>\n",
    "</ul>\n",
    "\n",
    "Hallamos MCD(3,220)\n",
    "$$\n",
    "    \\begin{align}\n",
    "    220 & = 73 \\cdot 3 + 1 \\\\\n",
    "    3 & = 3 \\cdot 1 +0\\\\\n",
    "    \\end{align}\n",
    "$$\n",
    "Y de acuerdo al algoritmo, tomando la segunda ecuación de abajo hacia arriba, vemos que el residuo es 1, es decir que MCD ($e$ y $\\phi(n)$)$=1$ por lo que concluimos que son coprimos.\n",
    "\n",
    "Para buscar el exponente privado, debemos encontrar $d$ tal que es el inverso multiplicativo modular de $e$ modulo $\\phi (n)$. Para esto, usamos el algoritmo de Euclides extendido:\n",
    "\n",
    "Tomamos las mismas ecuaciones del algoritmo de euclides normal pero despejamos el <i>resto</i> menos la última, veamos\n",
    "\n",
    "\\begin{align}\n",
    "1 &= 220 -73 \\cdot 3 \\\\\n",
    "\\end{align}\n",
    "\n",
    "Escribimos la ecuación $(1) \\cdot 220 -73 \\cdot 3 = 1$ (por la identidad de Benzout) como una congruencia modulo 220 para dar el inverso multiplicativo como:\n",
    "\n",
    "$$\n",
    "-73 \\cdot 3 = 1 - (1) \\cdot 220 \n",
    "$$\n",
    "\n",
    "Obtenemos\n",
    "\n",
    "$$\n",
    "3 \\cdot (-73) \\equiv 1\\ (mod \\ 220)\n",
    "$$\n",
    "\n",
    "Entonces vemos que $-73 + 220 = 147$ es un inverso multiplicativo de 3 modulo 220.\n",
    "\n",
    "Luego $d = 147$.\n",
    "\n",
    "Ya que hemos encontrado los dos exponentes para las claves, podemos enunciarlas:\n",
    "\n",
    "<ul>\n",
    "<li>La clave pública es $(e,n) = (3,253)$.</li>\n",
    "<li>La clave privada es $(d,n) = (147,253)$.</li>\n",
    "</ul>\n",
    "\n",
    "Usaremos el siguiente protocolo reversible para convertir el mensaje $M$ a números:\n",
    "<table style=\"width:30%\">\n",
    "<tr>\n",
    "<th>A</th>\n",
    "<th>B</th>\n",
    "<th>C</th>\n",
    "<th>D</th>\n",
    "<th>E</th>\n",
    "<th>F</th>\n",
    "<th>G</th>\n",
    "<th>H</th>\n",
    "<th>I</th>\n",
    "<th>J</th>\n",
    "<th>K</th>\n",
    "<th>L</th>\n",
    "<th>M</th>\n",
    "</tr> \n",
    "<tr>\n",
    "<th>0</th>\n",
    "<th>1</th>\n",
    "<th>2</th>\n",
    "<th>3</th>\n",
    "<th>4</th>\n",
    "<th>5</th>\n",
    "<th>6</th>\n",
    "<th>7</th>\n",
    "<th>8</th>\n",
    "<th>9</th>\n",
    "<th>10</th>\n",
    "<th>11</th>\n",
    "<th>12</th>\n",
    "</tr> \n",
    "</table>\n",
    "\n",
    "<table style=\"width:30%\">\n",
    "<tr>\n",
    "<th>N</th>\n",
    "<th>O</th>\n",
    "<th>P</th>\n",
    "<th>Q</th>\n",
    "<th>R</th>\n",
    "<th>S</th>\n",
    "<th>T</th>\n",
    "<th>U</th>\n",
    "<th>V</th>\n",
    "<th>W</th>\n",
    "<th>X</th>\n",
    "<th>Y</th>\n",
    "<th>Z</th>\n",
    "</tr> \n",
    "<tr>\n",
    "<th>13</th>\n",
    "<th>14</th>\n",
    "<th>15</th>\n",
    "<th>16</th>\n",
    "<th>17</th>\n",
    "<th>18</th>\n",
    "<th>19</th>\n",
    "<th>20</th>\n",
    "<th>21</th>\n",
    "<th>22</th>\n",
    "<th>23</th>\n",
    "<th>24</th>\n",
    "<th>25</th>\n",
    "</tr> \n",
    "</table>\n",
    "        \n",
    "Vamos a cifrar el siguiente mensaje $M = $ \"SEGURIDAD\":\n",
    "<table style=\"width:30%\">\n",
    "<tr>\n",
    "<th>S</th>\n",
    "<th>E</th>\n",
    "<th>G</th>\n",
    "<th>U</th>\n",
    "<th>R</th>\n",
    "<th>I</th>\n",
    "<th>D</th>\n",
    "<th>A</th>\n",
    "<th>D</th>\n",
    "\n",
    "</tr> \n",
    "<tr>\n",
    "<th>18</th>\n",
    "<th>4</th>\n",
    "<th>6</th>\n",
    "<th>20</th>\n",
    "<th>17</th>\n",
    "<th>8</th>\n",
    "<th>3</th>\n",
    "<th>0</th>\n",
    "<th>3</th>\n",
    "</tr>\n",
    "</table>\n",
    "\n",
    "Por lo que obtenemos que $m$ será el número correspondiente a cada letra que queremos enviar.\n",
    "\n",
    "Vamos a cifrar el mensaje con la llave pública $(e,n) = (3,253)$, usando $c\\equiv m^e\\ (mod\\ n)$:\n",
    "\n",
    "<ul>\n",
    "<li>Para \"S\", $m=18$:\n",
    "$18^{3} = 5832 \\ mod \\ 253 = 13$</li>\n",
    "<li>Para \"E\", $m=4$:\n",
    "$4^{3} = 64 \\ mod \\ 253 = 64$</li>\n",
    "<li>Para \"G\", $m=6$:\n",
    "$6^{3} = 216 \\ mod \\ 253 = 216$</li>\n",
    "<li>Para \"U\", $m=20$:\n",
    "$20^{3} = 8000 \\ mod \\ 253 = 157$</li>\n",
    "<li>Para \"R\", $m=17$:\n",
    "$17^{3} = 4913 \\ mod \\ 253 = 106$</li>\n",
    "<li>Para \"I\", $m=8$:\n",
    "$8^{3} = 512 \\ mod \\ 253 = 6$</li>\n",
    "<li>Para \"D\", $m=3$:\n",
    "$3^{3} = 27 \\ mod \\ 253 = 27$</li>\n",
    "<li>Para \"A\", $m=0$:\n",
    "$0^{3} = 0 \\ mod \\ 253 = 0$</li>\n",
    "<li>Para \"D\", $m=3$:\n",
    "$3^{3} = 27 \\ mod \\ 253 = 27$</li>\n",
    "</ul>\n",
    "Luego $c = 13\\ 64\\ 216\\ 157\\ 106\\ 6\\ 27\\ 0\\ 27$ se envía al receptor.\n",
    "\n",
    "Cuando el mensaje cifrado $c$ llega, se procede a descifrar usando la clave priivada $(d,n) = (147,253)$ y la operación $m = c^d (mod \\ n)$.\n",
    "\n",
    "<ul>\n",
    "<li>Para, $c=13$:\n",
    "$m = 13^{147} \\ mod \\ 253 = 18</li>\n",
    "<li>Para, $c=64$:\n",
    "$m = 64^{147} \\ mod \\ 253 = 4</li>\n",
    "<li>Para, $c=216$:\n",
    "$m = 216^{147} \\ mod \\ 253 = 6</li>\n",
    "<li>Para, $c=157$:\n",
    "$m = 157^{147} \\ mod \\ 253 = 20</li>\n",
    "<li>Para, $c=106$:\n",
    "$m = 106^{147} \\ mod \\ 253 = 17</li>\n",
    "<li>Para, $c=6$:\n",
    "$m = 6^{147} \\ mod \\ 253 = 8</li>\n",
    "<li>Para, $c=27$:\n",
    "$m = 27^{147} \\ mod \\ 253 = 3</li>\n",
    "<li>Para, $c=0$:\n",
    "$m = 0^{147} \\ mod \\ 253 = 0</li>\n",
    "<li>Para, $c=27$:\n",
    "$m = 27^{147} \\ mod \\ 253 = 3</li>\n",
    "</ul>\n",
    "\n",
    "De esta manera el receptor ha obtenido  $m = 18\\ 4\\ 6\\ 20\\ 17\\ 8\\ 3\\ 0\\ 3$. Finalmente, Aplica el protocolo reversible anteriormente explicaco y obtiene que:\n",
    "\n",
    "$M = $ \"SEGURIDAD\".\n",
    "\n",
    "De esta manera, hemos concluido este ejemplo ilustrativo."
   ]
  },
  {
   "cell_type": "markdown",
   "metadata": {},
   "source": [
    "### Implementación del algoritmo en Python.\n",
    "\n",
    "Lo primero que tenemos que hacer es crear los dos objetos correspondientes a las claves privada y pública. Es decir, debemos crear dos clases; <i><b>clavePublica</b></i> y <i><b>clavePrivada</b></i>."
   ]
  },
  {
   "cell_type": "code",
   "execution_count": 1,
   "metadata": {},
   "outputs": [],
   "source": [
    "class clavePublica:\n",
    "\n",
    "    def __init__(self,  modulo, exponente):\n",
    "        self.modulo = modulo\n",
    "        self.exponente = exponente"
   ]
  },
  {
   "cell_type": "code",
   "execution_count": 2,
   "metadata": {},
   "outputs": [],
   "source": [
    "class clavePrivada:\n",
    "\n",
    "    def __init__(self, modulo, exponente):\n",
    "        self.modulo = modulo\n",
    "        self.exponente = exponente"
   ]
  },
  {
   "cell_type": "markdown",
   "metadata": {},
   "source": [
    "El siguiente paso, es escoger dos números primos <i><b>p</b></i> y <i><b>q</b></i> de manera aleatoria y hallar su producto <i><b>n</b></i>."
   ]
  },
  {
   "cell_type": "markdown",
   "metadata": {},
   "source": [
    "Para escoger los dos primos que necesitamos, definimos la función <i><b>fermatEsPrimo</b></i>, la cual es una implementación del test de primalidad de Fermat para verificar si un número dado es primo.\n",
    "\n",
    "El test de primalidad de Fermat utiliza el <i><b>Pequeño teorema de Fermat</b></i>, el cual enuncia que:\n",
    "\n",
    "\"Si $p$ es un número primo, entonces, para cada número natural $a$, con $a>0$ , coprimo con $p$ , $ap-1 \\equiv 1 (mod p)$ \""
   ]
  },
  {
   "cell_type": "code",
   "execution_count": 3,
   "metadata": {},
   "outputs": [],
   "source": [
    "from random import randint\n",
    "k = 20\n",
    "def fermatEsPrimo(n, k):\n",
    "    if n == 2:\n",
    "        return True\n",
    "    if n % 2 == 0:\n",
    "        return False\n",
    "    for i in range(1, k):\n",
    "        a = randint(2, n-1)\n",
    "        if pow(a, n-1) % n != 1:\n",
    "            return False\n",
    "    return True"
   ]
  },
  {
   "cell_type": "markdown",
   "metadata": {},
   "source": [
    "Los parámetros para la función son <i><b>n</b></i> que representa el número al que se le quiere comprobar su primalidad, y <i><b>k</b></i> el número de veces que se desea hacer la iteración. Esto Último debido a que es probable que algún número compuesto cumpla también con el Pequeño teorema de Fermat, por lo que cuanto más veces se efectúe el test de primalidad, más probable es que se descarten dichos números compuestos.\n",
    "\n",
    "Ahora, procedemos a definir la función <i><b>generarPrimo</b></i>, la cual recibe como parámetro la cantidad de cifras que queremos que el número generado tenga.\n",
    "Esta función genera un número aleatorio y posteriormente comprueba su primalidad, si el número generado no pasa el test de Fermat (llamando a la función anterior), la iteración se repite hasta que otro número generado aleatoriamente lo pase."
   ]
  },
  {
   "cell_type": "code",
   "execution_count": 4,
   "metadata": {},
   "outputs": [],
   "source": [
    "cifras = 4"
   ]
  },
  {
   "cell_type": "code",
   "execution_count": 5,
   "metadata": {},
   "outputs": [],
   "source": [
    "def generarPrimo(cifras):\n",
    "    flag = False\n",
    "    while not flag:\n",
    "        n = randint(pow(10, cifras - 1), pow(10, cifras))\n",
    "        flag = fermatEsPrimo(n,k)\n",
    "    return n"
   ]
  },
  {
   "cell_type": "markdown",
   "metadata": {},
   "source": [
    "Generamos entonces el primer número primo <i><b>p</b></i>:"
   ]
  },
  {
   "cell_type": "code",
   "execution_count": 6,
   "metadata": {
    "scrolled": true
   },
   "outputs": [
    {
     "name": "stdout",
     "output_type": "stream",
     "text": [
      "p = 8839\n"
     ]
    }
   ],
   "source": [
    "p = generarPrimo(cifras)\n",
    "print(\"p =\", p)"
   ]
  },
  {
   "cell_type": "markdown",
   "metadata": {},
   "source": [
    "Ahora generamos el segundo número primo <i><b>q</b></i>:"
   ]
  },
  {
   "cell_type": "code",
   "execution_count": 7,
   "metadata": {
    "scrolled": true
   },
   "outputs": [
    {
     "name": "stdout",
     "output_type": "stream",
     "text": [
      "q = 2719\n"
     ]
    }
   ],
   "source": [
    "while True:\n",
    "    q = generarPrimo(cifras)\n",
    "    if p != q:\n",
    "        break\n",
    "print(\"q =\", q)"
   ]
  },
  {
   "cell_type": "markdown",
   "metadata": {},
   "source": [
    "Ahora hallamos <i><b>n</b></i>, que será el módulo de las claves:"
   ]
  },
  {
   "cell_type": "code",
   "execution_count": 8,
   "metadata": {},
   "outputs": [
    {
     "name": "stdout",
     "output_type": "stream",
     "text": [
      "n =  24033241\n"
     ]
    }
   ],
   "source": [
    "n = p*q\n",
    "print(\"n = \",n)"
   ]
  },
  {
   "cell_type": "markdown",
   "metadata": {},
   "source": [
    "Lo siguiente que tenemos que hacer es hallar $\\phi(n)$:"
   ]
  },
  {
   "cell_type": "code",
   "execution_count": 9,
   "metadata": {},
   "outputs": [
    {
     "name": "stdout",
     "output_type": "stream",
     "text": [
      "φ(n) =  24021684\n"
     ]
    }
   ],
   "source": [
    "phi_n = (p-1)*(q-1)\n",
    "print(\"φ(n) = \",phi_n)"
   ]
  },
  {
   "cell_type": "markdown",
   "metadata": {},
   "source": [
    "Usando esta última, procedemos a calcular los exponentes de las claves.\n",
    "\n",
    "Para hallar el exponente de la clave pública <i><b>e</b></i>, debemos generar un número que sea menor a $\\phi(n)$ coprimo con este. \n",
    "Para verificar que dos números son coprimos, debemos asegurar que su $MCD = 1$, para esto, utilizaremos el algoritmo de euclides, que definiremos así:"
   ]
  },
  {
   "cell_type": "code",
   "execution_count": 10,
   "metadata": {},
   "outputs": [],
   "source": [
    "def algoritmoEuclides(n1,n2):\n",
    "    while n1%n2 != 0:\n",
    "        n1,n2=n2,n1%n2\n",
    "    return n2"
   ]
  },
  {
   "cell_type": "markdown",
   "metadata": {},
   "source": [
    "Procedemos entonces a definir la función que generará a <i><b>e</b></i>:"
   ]
  },
  {
   "cell_type": "code",
   "execution_count": 11,
   "metadata": {},
   "outputs": [],
   "source": [
    "def generar_e(phi_n):\n",
    "    while True:\n",
    "        e = randint(2, phi_n - 1)\n",
    "        if algoritmoEuclides(e, phi_n) == 1:\n",
    "            return e"
   ]
  },
  {
   "cell_type": "markdown",
   "metadata": {},
   "source": [
    "Esta función recibe como parámetro a $\\phi(n)$ ya que es con quien queremos comparar. Genera un número aleatorio entre $2$ y $\\phi(n)-1$ y luego, si $MCD(e,\\phi(n))=1$ retorna $e$.\n",
    "\n",
    "Tenemos que <i><b>e</b></i> será:"
   ]
  },
  {
   "cell_type": "code",
   "execution_count": 12,
   "metadata": {},
   "outputs": [
    {
     "name": "stdout",
     "output_type": "stream",
     "text": [
      "e =  5454851\n"
     ]
    }
   ],
   "source": [
    "e = generar_e(phi_n)\n",
    "print(\"e = \",e)"
   ]
  },
  {
   "cell_type": "markdown",
   "metadata": {},
   "source": [
    "Ahora, vamos a generar el exponente de la clave privada <i><b>d</b></i>. Para esto, usaremos la aritmética modular para encontrar el inverso multiplicativo modular de <i><b>e</b></i>.\n",
    "\n",
    "Esto lo harémos usando el algoritmo de euclides extendido implementado en la función <i><b>generar_d</b></i> que se define a continuación:"
   ]
  },
  {
   "cell_type": "code",
   "execution_count": 13,
   "metadata": {},
   "outputs": [],
   "source": [
    "def generar_d(a,b):\n",
    " r = [a,b]\n",
    " s = [1,0] \n",
    " t = [0,1]\n",
    " i = 1 \n",
    " q = [[]]\n",
    " while (r[i] != 0): \n",
    "  q = q + [r[i-1] // r[i]]\n",
    "  r = r + [r[i-1] % r[i]]\n",
    "  s = s + [s[i-1] - q[i]*s[i]]\n",
    "  t = t + [t[i-1] - q[i]*t[i]]\n",
    "  i = i+1\n",
    " return (s[i-1]+b)"
   ]
  },
  {
   "cell_type": "markdown",
   "metadata": {},
   "source": [
    "Esta función recibe como parametros dos números $a$ y $b$ a los que les aplicará el algoritmo de euclides extendido, y retorna un inverso multiplicativo de $a$ modulo $b$. Si este es negativo, se le suma b.\n",
    "En nuestro caso, $a \\rightarrow e$ y $b \\rightarrow \\phi(n)$. Luego la función retornará el inverso multiplicativo $d$, de $e$ modulo $\\phi(n)$.\n",
    "Esto es:\n",
    "$$\n",
    "    e \\cdot (d) \\equiv 1\\ (mod \\ \\phi(n))\n",
    "$$\n",
    "Esto es válido debido a que ya probamos que $e$ y $\\phi(n)$ son coprimos.\n",
    "\n",
    "Luego tenemos que <i><b>d</b></i> será:"
   ]
  },
  {
   "cell_type": "code",
   "execution_count": 14,
   "metadata": {},
   "outputs": [
    {
     "name": "stdout",
     "output_type": "stream",
     "text": [
      "d =  15120731\n"
     ]
    }
   ],
   "source": [
    "d = generar_d(e,phi_n)\n",
    "print(\"d = \", d)"
   ]
  },
  {
   "cell_type": "markdown",
   "metadata": {},
   "source": [
    "Ahora, ya que hemos encontrado los exponentes de las claves, podemos enunciarlas. Recordemos que las claves se definen por la dupla $(n, \\ exp)$. Donde $exp$ representa el exponente para cada una de las claves.\n",
    "\n",
    "La clave pública será:"
   ]
  },
  {
   "cell_type": "code",
   "execution_count": 15,
   "metadata": {},
   "outputs": [
    {
     "name": "stdout",
     "output_type": "stream",
     "text": [
      "La clave pública es: (n,e) → (24033241,5454851).\n"
     ]
    }
   ],
   "source": [
    "clave_publica = clavePublica(n,e)\n",
    "print(\"La clave pública es: (n,e) → (\" + str(clave_publica.modulo) + \",\" + str(clave_publica.exponente) + \").\")"
   ]
  },
  {
   "cell_type": "markdown",
   "metadata": {},
   "source": [
    "La clave privada será:"
   ]
  },
  {
   "cell_type": "code",
   "execution_count": 16,
   "metadata": {},
   "outputs": [
    {
     "name": "stdout",
     "output_type": "stream",
     "text": [
      "La clave privada es: (n,d) → (24033241,15120731).\n"
     ]
    }
   ],
   "source": [
    "clave_privada = clavePrivada(n,d)\n",
    "print(\"La clave privada es: (n,d) → (\" + str(clave_privada.modulo) + \",\" + str(clave_privada.exponente) + \").\")"
   ]
  },
  {
   "cell_type": "markdown",
   "metadata": {},
   "source": [
    "\n",
    "Ya tenemos casi todo listo para aplicar el algoritmo RSA, lo que sigue es definir el mensaje que vamos a enviar:\n",
    "Sea $M = $\"CRIPTOGRAFIA PARA TODES\".\n",
    "\n",
    "Definimos también el siguiente protocolo reversible para convertir el mensaje $M$ a números:\n",
    "<table style=\"width:30%\">\n",
    "<tr>\n",
    "<th>A</th>\n",
    "<th>B</th>\n",
    "<th>C</th>\n",
    "<th>D</th>\n",
    "<th>E</th>\n",
    "<th>F</th>\n",
    "<th>G</th>\n",
    "<th>H</th>\n",
    "<th>I</th>\n",
    "<th>J</th>\n",
    "<th>K</th>\n",
    "<th>L</th>\n",
    "<th>M</th>\n",
    "</tr> \n",
    "<tr>\n",
    "<th>0</th>\n",
    "<th>1</th>\n",
    "<th>2</th>\n",
    "<th>3</th>\n",
    "<th>4</th>\n",
    "<th>5</th>\n",
    "<th>6</th>\n",
    "<th>7</th>\n",
    "<th>8</th>\n",
    "<th>9</th>\n",
    "<th>10</th>\n",
    "<th>11</th>\n",
    "<th>12</th>\n",
    "</tr> \n",
    "</table>\n",
    "\n",
    "<table style=\"width:30%\">\n",
    "<tr>\n",
    "<th>N</th>\n",
    "<th>O</th>\n",
    "<th>P</th>\n",
    "<th>Q</th>\n",
    "<th>R</th>\n",
    "<th>S</th>\n",
    "<th>T</th>\n",
    "<th>U</th>\n",
    "<th>V</th>\n",
    "<th>W</th>\n",
    "<th>X</th>\n",
    "<th>Y</th>\n",
    "<th>Z</th>\n",
    "</tr> \n",
    "<tr>\n",
    "<th>13</th>\n",
    "<th>14</th>\n",
    "<th>15</th>\n",
    "<th>16</th>\n",
    "<th>17</th>\n",
    "<th>18</th>\n",
    "<th>19</th>\n",
    "<th>20</th>\n",
    "<th>21</th>\n",
    "<th>22</th>\n",
    "<th>23</th>\n",
    "<th>24</th>\n",
    "<th>25</th>\n",
    "</tr> \n",
    "</table>"
   ]
  },
  {
   "cell_type": "markdown",
   "metadata": {},
   "source": [
    "El protocolo reversible anterior lo representaremos simplemente por un arreglo en que contenga cada letra (primera fila de cada tabla), y el valor (segunda fila de cada tabla) está dado por el índice que le corresponde a cada letra en el arreglo.\n",
    "A continuación definimos ese arreglo y lo nombramos <i><b>tabla</b></i>:"
   ]
  },
  {
   "cell_type": "code",
   "execution_count": 17,
   "metadata": {},
   "outputs": [],
   "source": [
    "tabla = [\"A\",\"B\",\"C\",\"D\",\"E\",\"F\",\"G\",\"H\",\"I\",\"J\",\"K\",\"L\",\"M\",\"N\",\"O\",\"P\",\"Q\",\"R\",\"S\",\"T\",\"U\",\"V\",\"W\",\"X\",\"Y\",\"Z\",\n",
    "         \" \",\"a\",\"b\",\"c\",\"d\",\"e\",\"f\",\"g\",\"h\",\"i\",\"j\",\"k\",\"l\",\"m\",\"n\",\"o\",\"p\",\"q\",\"r\",\"s\",\"t\",\"u\",\"v\",\"w\",\"x\",\"y\",\"z\"]"
   ]
  },
  {
   "cell_type": "markdown",
   "metadata": {},
   "source": [
    "Ahora instanciamos el mensaje que queremos enviar. Lo llamamos <i><b>Mensaje</b></i>:"
   ]
  },
  {
   "cell_type": "code",
   "execution_count": 18,
   "metadata": {},
   "outputs": [],
   "source": [
    "Mensaje = list(\"CRItograAFIA PAra TOdEs\")"
   ]
  },
  {
   "cell_type": "markdown",
   "metadata": {},
   "source": [
    "\n"
   ]
  },
  {
   "cell_type": "markdown",
   "metadata": {},
   "source": [
    "Para aplicar el protocolo reversible establecido, definimos la función <i><b>protocoloReversible</b></i>:"
   ]
  },
  {
   "cell_type": "code",
   "execution_count": 19,
   "metadata": {},
   "outputs": [],
   "source": [
    "def protocoloReversible (tabla, mensaje):\n",
    "    i = 0\n",
    "    encriptado = []\n",
    "    for ina in mensaje:\n",
    "        for ino in tabla:\n",
    "            if ino == ina:\n",
    "                a = tabla.index(ina)\n",
    "                encriptado.append(a)\n",
    "                i = i+1\n",
    "    return encriptado"
   ]
  },
  {
   "cell_type": "markdown",
   "metadata": {},
   "source": [
    "Esta función recibe como parametros el arreglo que llamamos <i><b>tabla</b></i>, y el arreglo que contiene el mensaje letra por letra que llamamos <i><b>Mensaje</b></i>. La función retorna <i><b>m</b></i>, que es el mensaje pero en su equivalente numérico. \n",
    "\n",
    "Luego, tenemos que $m$ sería:"
   ]
  },
  {
   "cell_type": "code",
   "execution_count": 20,
   "metadata": {},
   "outputs": [
    {
     "name": "stdout",
     "output_type": "stream",
     "text": [
      "m =  [2, 17, 8, 46, 41, 33, 44, 27, 0, 5, 8, 0, 26, 15, 0, 44, 27, 26, 19, 14, 30, 4, 45]\n"
     ]
    }
   ],
   "source": [
    "m = protocoloReversible(tabla, Mensaje)   \n",
    "print (\"m = \", m)"
   ]
  },
  {
   "cell_type": "markdown",
   "metadata": {},
   "source": [
    "\n"
   ]
  },
  {
   "cell_type": "markdown",
   "metadata": {},
   "source": [
    "Es momento de encriptar el mensaje, para esto, vamos a usar $c\\equiv m^e\\ (mod\\ n)$, la operación de encriptación definida para el algoritmo RSA que explicamos más arriba en este documento.\n",
    "\n",
    "Para esto es necesaria nuestra clave pública ya definida $(n,e)$.\n",
    "\n",
    "Definimos la función <i><b>encriptarMensaje</b></i> que hace uso del objeto creado clave pública, para efectuar la operación y obtener $c$."
   ]
  },
  {
   "cell_type": "code",
   "execution_count": 21,
   "metadata": {},
   "outputs": [],
   "source": [
    "def encriptarMensaje ():\n",
    "    c = []\n",
    "    for i in m:\n",
    "        a = pow(i,clave_publica.exponente,clave_publica.modulo)\n",
    "        c.append(a)\n",
    "    return c"
   ]
  },
  {
   "cell_type": "markdown",
   "metadata": {},
   "source": [
    "Luego, tenemos que $c$ sería:"
   ]
  },
  {
   "cell_type": "code",
   "execution_count": 22,
   "metadata": {},
   "outputs": [
    {
     "name": "stdout",
     "output_type": "stream",
     "text": [
      "c =  [1098407, 20502119, 17880634, 14835982, 17562453, 21792763, 2196341, 21840894, 0, 4264201, 17880634, 0, 4895865, 18019950, 0, 2196341, 21840894, 4895865, 19294533, 11124768, 14696593, 5206208, 12017632]\n"
     ]
    }
   ],
   "source": [
    "c = encriptarMensaje ()\n",
    "print (\"c = \",c)"
   ]
  },
  {
   "cell_type": "markdown",
   "metadata": {},
   "source": [
    "\n"
   ]
  },
  {
   "cell_type": "markdown",
   "metadata": {},
   "source": [
    "Luego de que el emisor obtiene y envia $c$ al receptor, este último deberá aplicar $m = c^d (mod \\ n)$, que es la operación de descifrado explicada más arriba en este documento.\n",
    "\n",
    "Para esto es necesario utilizar la clave privada ya definida $(d,n)$.\n",
    "\n",
    "Definimos la función <i><b>descencriptarMensaje</b></i> que hace uso del objeto creado clave privada, para efectuar la operación y obtener devuelta a $m$."
   ]
  },
  {
   "cell_type": "code",
   "execution_count": 23,
   "metadata": {},
   "outputs": [],
   "source": [
    "def descifrarMensaje ():\n",
    "    m = []\n",
    "    mensaje = \"\"\n",
    "    for i in c:\n",
    "        a = pow(i,clave_privada.exponente,clave_privada.modulo)\n",
    "        m.append(a)\n",
    "        \n",
    "    for j in m:\n",
    "        a = tabla[j]\n",
    "        mensaje += a\n",
    "    return mensaje"
   ]
  },
  {
   "cell_type": "markdown",
   "metadata": {},
   "source": [
    "Esta función realiza la operación de descifrado antes mencionada. El resultado de esta, como ya vimos es el inverso de la operación de encriptación, por lo que devuelve y guarda dentro de un arreglo los valores numéricos $m$ del mensaje $M$. Finalmente, utiliza esos valores para revertir el <i>Protocolo Reversible</i> y retorna el mensaje original.\n",
    "\n",
    "Por tanto, luego de aplicar la operación de descifrado y revertir el <i>Protocolo Reversible</i>, tenemos que el mensaje $M'$ obtenido es:"
   ]
  },
  {
   "cell_type": "code",
   "execution_count": 24,
   "metadata": {},
   "outputs": [
    {
     "name": "stdout",
     "output_type": "stream",
     "text": [
      "El mensaje descifrado es M' =  CRItograAFIA PAra TOdEs\n"
     ]
    }
   ],
   "source": [
    "M_descifrado = descifrarMensaje()\n",
    "print(\"El mensaje descifrado es M' = \", M_descifrado)"
   ]
  },
  {
   "cell_type": "markdown",
   "metadata": {},
   "source": [
    "\n"
   ]
  },
  {
   "cell_type": "markdown",
   "metadata": {},
   "source": [
    "\n"
   ]
  },
  {
   "cell_type": "markdown",
   "metadata": {},
   "source": [
    "De esta manera, hemos finalizado la implementación del Algoritmo RSA en Python y también concluimos con este trabajo ilustrativo sobre dicho algoritmo."
   ]
  }
 ],
 "metadata": {
  "kernelspec": {
   "display_name": "Python 3",
   "language": "python",
   "name": "python3"
  },
  "language_info": {
   "codemirror_mode": {
    "name": "ipython",
    "version": 3
   },
   "file_extension": ".py",
   "mimetype": "text/x-python",
   "name": "python",
   "nbconvert_exporter": "python",
   "pygments_lexer": "ipython3",
   "version": "3.8.2"
  }
 },
 "nbformat": 4,
 "nbformat_minor": 4
}
